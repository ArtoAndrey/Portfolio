{
 "cells": [
  {
   "cell_type": "markdown",
   "id": "153f3b59-fae3-46f7-ab4c-e1e4e219bb07",
   "metadata": {},
   "source": [
    "# Проект формированию автоматических рассылок \n",
    "\n",
    "## Описание\n",
    "\n",
    "Проект направлен на автоматизацию процесса рассылки документации в группе подготовки объектов к промышленной эксплуатации. Пользователю необходимо высылать обновляемый excel файл 2 раза в неделю, и программа упрощает этот процесс, формирует письмо в MS Outlook\n",
    "\n",
    "## User Story\n",
    "\n",
    "Требуется автоматическая рассылка отчета о выявленных замечаниях во вторник и четверг. До настоящего времени процедура осуществлялась в ручном режиме\n",
    "\n",
    "## Результаты предварительного анализа\n",
    "\n",
    "Изначально рассматривался вариант с ипользованием макроса на VBA и планировщика заданий Windows, но из-за недостатка прав у конечного пользователя  было принято решение реализовать функционал на Python\n",
    "\n",
    "## Задача\n",
    "\n",
    "Написать программу для формирования писем с приложениями в MS Outlook, предусмотреть возможность отправки по расписанию\n",
    "\n",
    "## Используемый стек технологий\r\n",
    "\r\n",
    "- Python: Основной язык программирования для разработки.\r\n",
    "- Pandas: Библиотека для обработки и анализа данных.\r\n",
    "- OpenPyXL: Библиотека для работы с файлами Excel (.xlsx).\r\n",
    "- OS: Модуль для взаимодействия с операционной системой (например, для работы с файловой системой).\r\n",
    "- MS Excel: Программа для просмотра и редактирования созданных отчетов.\r\n",
    "- Random: Библиотека для генерации случайных чисел и выбора случайных элементов.\r\n",
    "- Datetime: Модуль для работы с датами и временем, позволяющий легко получать текущую дату и время, а также выполнять операции с ними."
   ]
  },
  {
   "cell_type": "markdown",
   "id": "867873fe-fc46-45c1-9978-ba22832822a6",
   "metadata": {},
   "source": [
    "## Установка библиотек"
   ]
  },
  {
   "cell_type": "code",
   "execution_count": 4,
   "id": "f4a78226-d4bf-4d13-b456-06c3ceb2c972",
   "metadata": {},
   "outputs": [],
   "source": [
    "#!pip install pywin32 schedule Раскомитить при необходимости"
   ]
  },
  {
   "cell_type": "markdown",
   "id": "ca8bed4d-0eca-4323-b4dc-5b00c5a0840e",
   "metadata": {},
   "source": [
    "## Импорт библиотек"
   ]
  },
  {
   "cell_type": "code",
   "execution_count": 2,
   "id": "d5967b90-d2a4-4983-a767-2fdb9dfd7bf5",
   "metadata": {},
   "outputs": [],
   "source": [
    "import os\n",
    "import schedule\n",
    "import time\n",
    "import win32com.client as win32"
   ]
  },
  {
   "cell_type": "markdown",
   "id": "04fd9059-38aa-4e4b-b42a-07bf4bb15677",
   "metadata": {},
   "source": [
    "## Код проекта"
   ]
  },
  {
   "cell_type": "code",
   "execution_count": 3,
   "id": "5a259142-3917-423c-bd91-ae145e8e7e3b",
   "metadata": {},
   "outputs": [
    {
     "ename": "KeyboardInterrupt",
     "evalue": "",
     "output_type": "error",
     "traceback": [
      "\u001b[1;31m---------------------------------------------------------------------------\u001b[0m",
      "\u001b[1;31mKeyboardInterrupt\u001b[0m                         Traceback (most recent call last)",
      "Cell \u001b[1;32mIn[3], line 38\u001b[0m\n\u001b[0;32m     36\u001b[0m \u001b[38;5;28;01mwhile\u001b[39;00m \u001b[38;5;28;01mTrue\u001b[39;00m:\n\u001b[0;32m     37\u001b[0m     schedule\u001b[38;5;241m.\u001b[39mrun_pending()\n\u001b[1;32m---> 38\u001b[0m     time\u001b[38;5;241m.\u001b[39msleep(\u001b[38;5;241m1\u001b[39m)\n",
      "\u001b[1;31mKeyboardInterrupt\u001b[0m: "
     ]
    }
   ],
   "source": [
    "#КОД ПРОЕКТА\n",
    "\n",
    "#ФУНКЦИЯ РАССЫЛКИ С ПРИЛОЖЕНИЕМ \n",
    "\n",
    "def send_email_with_attachment():\n",
    "    file_path = r''  # Заменить путь при необходимости, для теста оставить пустым\n",
    "    if not os.path.exists(file_path):\n",
    "        print(f\"Файл не найден: {file_path}\")\n",
    "        return\n",
    "\n",
    "#ЗАПУСК MS OUTLOOK\n",
    "    outlook = win32.Dispatch('outlook.application')\n",
    "    mail = outlook.CreateItem(0)\n",
    "\n",
    "#АТРИБУТЫ ПИСЬМА\n",
    "    mail.Subject = 'Тема_письма' #Тема Письма \n",
    "    mail.Body = 'Текст_письма' # Текст письма \n",
    "\n",
    "#СКИСОК ПОЛУЧАТЕЛЕЙ   \n",
    "    recipients = ['email_example@example.com']  # Замените на свой адрес\n",
    "    mail.To = '; '.join(recipients)\n",
    "\n",
    "    if os.path.exists(file_path):\n",
    "        mail.Attachments.Add(file_path)\n",
    "\n",
    "#СООБЩЕНИЕ ОБ ОТПРАВКЕ\n",
    "    mail.Send()\n",
    "    print(\"Письмо отправлено!\")\n",
    "\n",
    "#ПЛАНИРОВЩИК РАССЫЛКИ\n",
    "# Запланируйте выполнение функции\n",
    "schedule.every().tuesday.at(\"10:00\").do(send_email_with_attachment)  # Замените на нужное время во вторник\n",
    "schedule.every().thursday.at(\"10:00\").do(send_email_with_attachment)  # Замените на нужное время в четверг\n",
    "\n",
    "# Бесконечный цикл для проверки расписания\n",
    "while True:\n",
    "    schedule.run_pending()\n",
    "    time.sleep(1)\n"
   ]
  },
  {
   "cell_type": "code",
   "execution_count": null,
   "id": "bd90eb14-b546-4416-8b0e-993589ae19a3",
   "metadata": {},
   "outputs": [],
   "source": []
  }
 ],
 "metadata": {
  "kernelspec": {
   "display_name": "Python 3 (ipykernel)",
   "language": "python",
   "name": "python3"
  },
  "language_info": {
   "codemirror_mode": {
    "name": "ipython",
    "version": 3
   },
   "file_extension": ".py",
   "mimetype": "text/x-python",
   "name": "python",
   "nbconvert_exporter": "python",
   "pygments_lexer": "ipython3",
   "version": "3.11.7"
  }
 },
 "nbformat": 4,
 "nbformat_minor": 5
}
