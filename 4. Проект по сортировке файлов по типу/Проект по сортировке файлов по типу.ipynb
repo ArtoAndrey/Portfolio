{
 "cells": [
  {
   "cell_type": "markdown",
   "id": "617961d8-99e6-4b4d-98b5-6fb6f30f6d53",
   "metadata": {},
   "source": [
    "# Проект по поиску артикулов внутри pdf файлов \n",
    "\n",
    "## Описание\n",
    "\n",
    "Проект направлен на автоматизацию процесса  сортировки файлов  группы подготовки объектов к промышленной эксплуатации. Пользователю необходимо распределить данные в зависимости от типа файлов \n",
    "\n",
    "## User Story\n",
    "\n",
    "Требуется рассортировать файлы по типу документа. \n",
    "\n",
    "## Результаты предварительного анализа\n",
    "\n",
    "У пользователю на ежедневной основе поступает отчетность ввиде документов различного типа, требуется предварительная сортировка файлов и распределение их по типам\n",
    "\n",
    "## Задача\n",
    "\n",
    "Написать программу сортировки и распределения файлов пользователя\n",
    "\n",
    "## Используемый стек технологий\n",
    "\n",
    "- Python: Основной язык программирования для разработки.\n",
    "- shutil: Библиотека для различных операций с файлами и директориями.\n",
    "- OS: Модуль для взаимодействия с ОС."
   ]
  },
  {
   "cell_type": "code",
   "execution_count": null,
   "id": "4adbf390-c36d-491e-b325-fdec20d29c1d",
   "metadata": {},
   "outputs": [],
   "source": []
  },
  {
   "cell_type": "code",
   "execution_count": 1,
   "id": "b4e15f0b-7170-46f2-8253-fca1f2f70931",
   "metadata": {},
   "outputs": [],
   "source": [
    "import os\n",
    "import shutil"
   ]
  },
  {
   "cell_type": "code",
   "execution_count": 4,
   "id": "0d17cc72-ab8f-41aa-b1b2-f0d3fbb074a8",
   "metadata": {},
   "outputs": [],
   "source": [
    "#РАБОЧИЙ КАТАЛОГ\n",
    "# Изменяем рабочий каталог\n",
    "os.chdir(r\"C:\\Users\\Admin\\Downloads\")\n",
    "# Проверяем количество файлов в директории\n",
    "files = os.listdir()\n",
    "\n",
    "\n",
    "# СОРТИРОВЩИК-КЛАССИФИКАТОР\n",
    "# Список расширений\n",
    "extentions = {\n",
    "    \"images\": [\".jpg\", \".png\", \".jpeg\", \".gif\"],\n",
    "    \"videos\": [\".mp4\", \".mkv\"],\n",
    "    \"zip\": [\".zip\", \".tgz\", \".rar\", \".tar\"],\n",
    "    \"documents\": [\".pdf\", \".docx\", \".csv\", \".xlsx\", \".pptx\", \".doc\", \".ppt\", \".xls\"]\n",
    "}\n",
    "\n",
    "#ФУНКЦИЯ СОРТИРОВЩИКА\n",
    "# Функция сортировки\n",
    "def sorting(file):\n",
    "    for key, exts in extentions.items():\n",
    "        if file.endswith(tuple(exts)):\n",
    "            return key\n",
    "    return None\n",
    "    \n",
    "# СОЗДАНИЕ ПАПОК ДЛЯ КЛАССИФИКАЦИИ\n",
    "# Создаем целевые директории, если их нет\n",
    "base_path = \"../download-sorting\"\n",
    "os.makedirs(base_path, exist_ok=True)\n",
    "for category in extentions.keys():\n",
    "    os.makedirs(os.path.join(base_path, category), exist_ok=True)\n",
    "\n",
    "# Итерация по каждому файлу\n",
    "for file in files:\n",
    "    dist = sorting(file)\n",
    "    if dist:\n",
    "        try:\n",
    "            shutil.move(file, os.path.join(base_path, dist, file))\n",
    "        except FileExistsError:\n",
    "            print(f\"{file} уже существует в {dist}\")\n",
    "        except Exception as e:\n",
    "            print(f\"Ошибка при перемещении {file}: {e}\")\n",
    "    else:\n",
    "        try:\n",
    "            shutil.move(file, os.path.join(base_path, \"others\", file))\n",
    "        except FileExistsError:\n",
    "            print(f\"{file} уже существует в others\")\n",
    "        except Exception as e:\n",
    "            print(f\"Ошибка при перемещении {file} в others: {e}\")"
   ]
  },
  {
   "cell_type": "code",
   "execution_count": null,
   "id": "a798b0b8-bb24-41ae-bde2-178633fc7db5",
   "metadata": {},
   "outputs": [],
   "source": []
  }
 ],
 "metadata": {
  "kernelspec": {
   "display_name": "Python 3 (ipykernel)",
   "language": "python",
   "name": "python3"
  },
  "language_info": {
   "codemirror_mode": {
    "name": "ipython",
    "version": 3
   },
   "file_extension": ".py",
   "mimetype": "text/x-python",
   "name": "python",
   "nbconvert_exporter": "python",
   "pygments_lexer": "ipython3",
   "version": "3.11.7"
  }
 },
 "nbformat": 4,
 "nbformat_minor": 5
}
